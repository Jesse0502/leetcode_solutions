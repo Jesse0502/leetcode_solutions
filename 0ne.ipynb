{
 "cells": [
  {
   "cell_type": "code",
   "execution_count": 7,
   "metadata": {},
   "outputs": [
    {
     "data": {
      "text/plain": [
       "['fuck', 'hola', 'lmao']"
      ]
     },
     "execution_count": 7,
     "metadata": {},
     "output_type": "execute_result"
    }
   ],
   "source": [
    "class Solution:\n",
    "    \"\"\"\n",
    "    @param: strs: a list of strings\n",
    "    @return: encodes a list of strings to a single string.\n",
    "    \"\"\"\n",
    "    def encode(self, strs):\n",
    "        output = \"\"\n",
    "        for s in strs:\n",
    "            prefix = str(len(s)) + \"#\"\n",
    "            output += prefix + s\n",
    "        return output\n",
    "    \"\"\"\n",
    "    @param: str: A string\n",
    "    @return: dcodes a single string to a list of strings\n",
    "    \"\"\"\n",
    "    def decode(self, str):\n",
    "        res,i = [],0\n",
    "        while i < len(str):\n",
    "            j = i\n",
    "            while str[j] != \"#\":\n",
    "                j += 1 \n",
    "            length = int(str[i:j])\n",
    "            res.append(str[j+1:j+1+length])\n",
    "            i = j + 1 +length\n",
    "        return res\n",
    "Solution.decode(Solution, \"4#fuck4#hola4#lmao\")"
   ]
  }
 ],
 "metadata": {
  "interpreter": {
   "hash": "c7af7df4901773a0e355da496bf365ae011b1b331a57bbc9908dae1ee21823d7"
  },
  "kernelspec": {
   "display_name": "Python 3.10.4 64-bit",
   "language": "python",
   "name": "python3"
  },
  "language_info": {
   "codemirror_mode": {
    "name": "ipython",
    "version": 3
   },
   "file_extension": ".py",
   "mimetype": "text/x-python",
   "name": "python",
   "nbconvert_exporter": "python",
   "pygments_lexer": "ipython3",
   "version": "3.10.4"
  },
  "orig_nbformat": 4
 },
 "nbformat": 4,
 "nbformat_minor": 2
}
