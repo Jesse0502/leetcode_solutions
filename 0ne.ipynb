{
 "cells": [
  {
   "cell_type": "code",
   "execution_count": 208,
   "metadata": {},
   "outputs": [
    {
     "data": {
      "text/plain": [
       "[120, 60, 40, 30, 24]"
      ]
     },
     "execution_count": 208,
     "metadata": {},
     "output_type": "execute_result"
    }
   ],
   "source": [
    "from typing import List\n",
    "\n",
    "class Solution:\n",
    "    def productExceptSelf(self, nums):\n",
    "        left_product = []\n",
    "        \n",
    "        left = 1\n",
    "        for i in nums:\n",
    "            left_product.append(left)\n",
    "            left = left * i\n",
    "        \n",
    "        right_product = []\n",
    "        right = 1\n",
    "        for i in reversed(nums):\n",
    "            right_product.append(right)\n",
    "            right *= i\n",
    "        output = []\n",
    "        for l, r in zip(left_product, reversed(right_product)):\n",
    "            output.append(l*r)\n",
    "        return (output)\n",
    "\n",
    "Solution.productExceptSelf(Solution, [1,2,3,4,5])        "
   ]
  },
  {
   "cell_type": "code",
   "execution_count": 192,
   "metadata": {},
   "outputs": [
    {
     "data": {
      "text/plain": [
       "[120, 60, 40, 30, 24]"
      ]
     },
     "execution_count": 192,
     "metadata": {},
     "output_type": "execute_result"
    }
   ],
   "source": [
    "class Solution:\n",
    "    def productExceptSelf(self, nums: List[int]) -> List[int]:\n",
    "        answer = [1] * len(nums)\n",
    "        left_product = 1\n",
    "        for i in range(len(nums)):\n",
    "            answer[i] = left_product\n",
    "            left_product *= nums[i]\n",
    "        \n",
    "        right_product = 1\n",
    "        for i in reversed(range(len(nums))):\n",
    "            answer[i] *= right_product\n",
    "            right_product *= nums[i]\n",
    "        return answer\n",
    "\n",
    "Solution.productExceptSelf(Solution, [1,2,3,4,5])"
   ]
  },
  {
   "cell_type": "code",
   "execution_count": 196,
   "metadata": {},
   "outputs": [
    {
     "data": {
      "text/plain": [
       "1"
      ]
     },
     "execution_count": 196,
     "metadata": {},
     "output_type": "execute_result"
    }
   ],
   "source": [
    "import numpy\n",
    "numpy.product([1])"
   ]
  }
 ],
 "metadata": {
  "interpreter": {
   "hash": "c7af7df4901773a0e355da496bf365ae011b1b331a57bbc9908dae1ee21823d7"
  },
  "kernelspec": {
   "display_name": "Python 3.10.4 64-bit",
   "language": "python",
   "name": "python3"
  },
  "language_info": {
   "codemirror_mode": {
    "name": "ipython",
    "version": 3
   },
   "file_extension": ".py",
   "mimetype": "text/x-python",
   "name": "python",
   "nbconvert_exporter": "python",
   "pygments_lexer": "ipython3",
   "version": "3.10.4"
  },
  "orig_nbformat": 4
 },
 "nbformat": 4,
 "nbformat_minor": 2
}
