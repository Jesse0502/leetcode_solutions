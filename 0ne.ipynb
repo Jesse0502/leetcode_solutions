{
 "cells": [
  {
   "cell_type": "code",
   "execution_count": 42,
   "metadata": {},
   "outputs": [
    {
     "data": {
      "text/plain": [
       "[1, 2]"
      ]
     },
     "execution_count": 42,
     "metadata": {},
     "output_type": "execute_result"
    }
   ],
   "source": [
    "from typing import List\n",
    "\n",
    "class Solution:\n",
    "    def twoSum(self, numbers: List[int], target: int) -> List[int]:\n",
    "        for i, num in enumerate(numbers):\n",
    "            if target - num in numbers[i:]:\n",
    "                res = [i + 1, numbers[i:].index(target-num) + i + 1]\n",
    "                if res[0] != res[1]:\n",
    "                    return res\n",
    "                res = [i + 1, numbers[i:].index(target-num) + i + 2]\n",
    "                return res\n",
    "                    \n",
    "\n",
    "\n",
    "Solution.twoSum(Solution, [0,0,3,4], 0)"
   ]
  },
  {
   "cell_type": "code",
   "execution_count": 28,
   "metadata": {},
   "outputs": [
    {
     "data": {
      "text/plain": [
       "{1, 2, 3, 4}"
      ]
     },
     "execution_count": 28,
     "metadata": {},
     "output_type": "execute_result"
    }
   ],
   "source": [
    "pyset = set([1,2,3,4])\n",
    "pyset"
   ]
  }
 ],
 "metadata": {
  "interpreter": {
   "hash": "c7af7df4901773a0e355da496bf365ae011b1b331a57bbc9908dae1ee21823d7"
  },
  "kernelspec": {
   "display_name": "Python 3.10.4 64-bit",
   "language": "python",
   "name": "python3"
  },
  "language_info": {
   "codemirror_mode": {
    "name": "ipython",
    "version": 3
   },
   "file_extension": ".py",
   "mimetype": "text/x-python",
   "name": "python",
   "nbconvert_exporter": "python",
   "pygments_lexer": "ipython3",
   "version": "3.10.4"
  },
  "orig_nbformat": 4
 },
 "nbformat": 4,
 "nbformat_minor": 2
}
