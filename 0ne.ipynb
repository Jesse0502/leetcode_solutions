{
 "cells": [
  {
   "cell_type": "code",
   "execution_count": 36,
   "metadata": {},
   "outputs": [],
   "source": [
    "class TreeNode:\n",
    "    def __init__(self, val=0, left=None, right=None):\n",
    "        self.val = val\n",
    "        self.left = left\n",
    "        self.right = right\n",
    "\n",
    "# a = TreeNode(3, TreeNode(9), TreeNode(20, TreeNode(15, TreeNode(7))))\n",
    "a = TreeNode(4, TreeNode(3, TreeNode(2)))\n",
    "b = TreeNode(3, TreeNode(2))"
   ]
  },
  {
   "cell_type": "code",
   "execution_count": 38,
   "metadata": {},
   "outputs": [
    {
     "name": "stdout",
     "output_type": "stream",
     "text": [
      "True\n"
     ]
    }
   ],
   "source": [
    "from typing import Optional\n",
    "\n",
    "\n",
    "class Solution:\n",
    "    def isSubtree(self, root: Optional[TreeNode], subRoot: Optional[TreeNode]) -> bool:        \n",
    "        def isSameTree(root1, root2):\n",
    "            if root1 is None and root2 is None:\n",
    "                return True\n",
    "            elif root1 is None or root2 is None:\n",
    "                return False\n",
    "            else:\n",
    "                return root1.val == root2.val and isSameTree(root1.left, root2.left) and isSameTree(root1.right, root2.right)\n",
    "        \n",
    "        def searchForSubTree(head, sub):\n",
    "            if head is None:\n",
    "                return False\n",
    "            if isSameTree(head, sub):\n",
    "                return True\n",
    "            return searchForSubTree(head.left, sub) or searchForSubTree(head.right, sub)\n",
    "        \n",
    "        return searchForSubTree(root, subRoot)\n",
    "print(\n",
    "    Solution.isSubtree(Solution, a, b)\n",
    ")\n"
   ]
  }
 ],
 "metadata": {
  "interpreter": {
   "hash": "651abe265c380d61492baf9b383afce7bea81c1888e2ad0ddeea0a50c05f8215"
  },
  "kernelspec": {
   "display_name": "Python 3.7.9 64-bit (windows store)",
   "language": "python",
   "name": "python3"
  },
  "language_info": {
   "codemirror_mode": {
    "name": "ipython",
    "version": 3
   },
   "file_extension": ".py",
   "mimetype": "text/x-python",
   "name": "python",
   "nbconvert_exporter": "python",
   "pygments_lexer": "ipython3",
   "version": "3.7.9"
  },
  "orig_nbformat": 4
 },
 "nbformat": 4,
 "nbformat_minor": 2
}
