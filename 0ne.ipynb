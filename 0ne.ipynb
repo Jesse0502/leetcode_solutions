{
 "cells": [
  {
   "cell_type": "code",
   "execution_count": 36,
   "metadata": {},
   "outputs": [],
   "source": [
    "class TreeNode:\n",
    "    def __init__(self, val=0, left=None, right=None):\n",
    "        self.val = val\n",
    "        self.left = left\n",
    "        self.right = right\n",
    "\n",
    "# a = TreeNode(3, TreeNode(9), TreeNode(20, TreeNode(15, TreeNode(7))))\n",
    "a = TreeNode(4, TreeNode(3, TreeNode(2)))\n",
    "b = TreeNode(3, TreeNode(2))"
   ]
  },
  {
   "cell_type": "code",
   "execution_count": 38,
   "metadata": {},
   "outputs": [
    {
     "name": "stdout",
     "output_type": "stream",
     "text": [
      "True\n"
     ]
    }
   ],
   "source": [
    "import heapq\n",
    "\n",
    "heapq.heapify()"
   ]
  }
 ],
 "metadata": {
  "interpreter": {
   "hash": "651abe265c380d61492baf9b383afce7bea81c1888e2ad0ddeea0a50c05f8215"
  },
  "kernelspec": {
   "display_name": "Python 3.7.9 64-bit (windows store)",
   "language": "python",
   "name": "python3"
  },
  "language_info": {
   "codemirror_mode": {
    "name": "ipython",
    "version": 3
   },
   "file_extension": ".py",
   "mimetype": "text/x-python",
   "name": "python",
   "nbconvert_exporter": "python",
   "pygments_lexer": "ipython3",
   "version": "3.7.9"
  },
  "orig_nbformat": 4
 },
 "nbformat": 4,
 "nbformat_minor": 2
}
