{
 "cells": [
  {
   "cell_type": "code",
   "execution_count": 75,
   "metadata": {},
   "outputs": [],
   "source": [
    "class TreeNode:\n",
    "    def __init__(self, val=0, left=None, right=None):\n",
    "        self.val = val\n",
    "        self.left = left\n",
    "        self.right = right\n",
    "\n",
    "# a = TreeNode(3, TreeNode(9), TreeNode(20, TreeNode(15, TreeNode(7))))\n",
    "a = TreeNode(3, TreeNode(2))\n",
    "b = TreeNode(3, None, TreeNode(2))"
   ]
  },
  {
   "cell_type": "code",
   "execution_count": 94,
   "metadata": {},
   "outputs": [
    {
     "name": "stdout",
     "output_type": "stream",
     "text": [
      "False\n"
     ]
    }
   ],
   "source": [
    "from typing import Optional\n",
    "\n",
    "\n",
    "class Solution:\n",
    "\n",
    "    def isSameTree(self, p: Optional[TreeNode], q: Optional[TreeNode]) -> bool:        \n",
    "        def findFullNode(root, l):\n",
    "            if (root != None):\n",
    "                l.append(root.val)\n",
    "                findFullNode(root.left, l)\n",
    "                findFullNode(root.right, l)\n",
    "            else:\n",
    "                l.append(None)\n",
    "            return l\n",
    "        return findFullNode(p, []) == findFullNode(q, [])\n",
    "\n",
    "print(\n",
    "    Solution.isSameTree(Solution, a, b)\n",
    ")\n"
   ]
  }
 ],
 "metadata": {
  "interpreter": {
   "hash": "651abe265c380d61492baf9b383afce7bea81c1888e2ad0ddeea0a50c05f8215"
  },
  "kernelspec": {
   "display_name": "Python 3.7.9 64-bit (windows store)",
   "language": "python",
   "name": "python3"
  },
  "language_info": {
   "codemirror_mode": {
    "name": "ipython",
    "version": 3
   },
   "file_extension": ".py",
   "mimetype": "text/x-python",
   "name": "python",
   "nbconvert_exporter": "python",
   "pygments_lexer": "ipython3",
   "version": "3.7.9"
  },
  "orig_nbformat": 4
 },
 "nbformat": 4,
 "nbformat_minor": 2
}
