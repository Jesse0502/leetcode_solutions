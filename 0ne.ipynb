{
 "cells": [
  {
   "cell_type": "code",
   "execution_count": 30,
   "metadata": {},
   "outputs": [
    {
     "data": {
      "text/plain": [
       "False"
      ]
     },
     "execution_count": 30,
     "metadata": {},
     "output_type": "execute_result"
    }
   ],
   "source": [
    "class Solution:\n",
    "    def isHappy(self, n: int) -> bool:\n",
    "        if n < 0:\n",
    "            return False\n",
    "        replace_int = n\n",
    "        arr = []\n",
    "        while replace_int != 1:\n",
    "            \n",
    "            newI: int = 0\n",
    "            for num in str(replace_int):\n",
    "                newI += int(num) * int(num)\n",
    "            if newI in arr:\n",
    "                return False\n",
    "            arr.append(replace_int)\n",
    "            replace_int = newI\n",
    "\n",
    "        return True\n",
    "\n",
    "Solution.isHappy(Solution, 2)"
   ]
  },
  {
   "cell_type": "code",
   "execution_count": 2,
   "metadata": {},
   "outputs": [
    {
     "name": "stdout",
     "output_type": "stream",
     "text": [
      "hello\n"
     ]
    }
   ],
   "source": []
  }
 ],
 "metadata": {
  "interpreter": {
   "hash": "651abe265c380d61492baf9b383afce7bea81c1888e2ad0ddeea0a50c05f8215"
  },
  "kernelspec": {
   "display_name": "Python 3.7.9 64-bit (windows store)",
   "language": "python",
   "name": "python3"
  },
  "language_info": {
   "codemirror_mode": {
    "name": "ipython",
    "version": 3
   },
   "file_extension": ".py",
   "mimetype": "text/x-python",
   "name": "python",
   "nbconvert_exporter": "python",
   "pygments_lexer": "ipython3",
   "version": "3.7.9"
  },
  "orig_nbformat": 4
 },
 "nbformat": 4,
 "nbformat_minor": 2
}
