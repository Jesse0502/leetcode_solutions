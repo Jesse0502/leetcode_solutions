{
 "cells": [
  {
   "cell_type": "code",
   "execution_count": 42,
   "metadata": {},
   "outputs": [
    {
     "data": {
      "text/plain": [
       "[1, 2]"
      ]
     },
     "execution_count": 42,
     "metadata": {},
     "output_type": "execute_result"
    }
   ],
   "source": [
    "from typing import List\n",
    "\n",
    "class Solution:\n",
    "    def threeSum(self, nums: List[int]) -> List[List[int]]:\n",
    "          res = []\n",
    "          nums.sort()\n",
    "\n",
    "          for i,a in enumerate(nums):\n",
    "            if i > 0 and nums[i-1] == a:\n",
    "                continue\n",
    "\n",
    "            \n",
    "\n",
    "Solution.threeSum(Solution, [-2,-1,3,4])"
   ]
  },
  {
   "cell_type": "code",
   "execution_count": 1,
   "metadata": {},
   "outputs": [
    {
     "ename": "TypeError",
     "evalue": "'int' object is not iterable",
     "output_type": "error",
     "traceback": [
      "\u001b[1;31m---------------------------------------------------------------------------\u001b[0m",
      "\u001b[1;31mTypeError\u001b[0m                                 Traceback (most recent call last)",
      "\u001b[1;32md:\\leetcode_solutions\\0ne.ipynb Cell 2'\u001b[0m in \u001b[0;36m<cell line: 1>\u001b[1;34m()\u001b[0m\n\u001b[1;32m----> <a href='vscode-notebook-cell:/d%3A/leetcode_solutions/0ne.ipynb#ch0000001?line=0'>1</a>\u001b[0m a \u001b[39m=\u001b[39m \u001b[39mlist\u001b[39;49m(\u001b[39m2\u001b[39;49m)\n\u001b[0;32m      <a href='vscode-notebook-cell:/d%3A/leetcode_solutions/0ne.ipynb#ch0000001?line=1'>2</a>\u001b[0m a[\u001b[39m1\u001b[39m]  \u001b[39m=\u001b[39m \u001b[39m2\u001b[39m\n\u001b[0;32m      <a href='vscode-notebook-cell:/d%3A/leetcode_solutions/0ne.ipynb#ch0000001?line=2'>3</a>\u001b[0m a[\u001b[39m2\u001b[39m] \u001b[39m=\u001b[39m \u001b[39m3\u001b[39m\n",
      "\u001b[1;31mTypeError\u001b[0m: 'int' object is not iterable"
     ]
    }
   ],
   "source": [
    "a = list(2)\n",
    "c =list(2)\n",
    "b=list(2)\n",
    "a[1] = 2\n",
    "a[2] =3\n",
    "a[3]=3\n",
    "# len(a)"
   ]
  }
 ],
 "metadata": {
  "interpreter": {
   "hash": "c7af7df4901773a0e355da496bf365ae011b1b331a57bbc9908dae1ee21823d7"
  },
  "kernelspec": {
   "display_name": "Python 3.10.4 64-bit",
   "language": "python",
   "name": "python3"
  },
  "language_info": {
   "codemirror_mode": {
    "name": "ipython",
    "version": 3
   },
   "file_extension": ".py",
   "mimetype": "text/x-python",
   "name": "python",
   "nbconvert_exporter": "python",
   "pygments_lexer": "ipython3",
   "version": "3.10.4"
  },
  "orig_nbformat": 4
 },
 "nbformat": 4,
 "nbformat_minor": 2
}
