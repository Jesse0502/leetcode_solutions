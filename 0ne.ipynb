{
 "cells": [
  {
   "cell_type": "code",
   "execution_count": 2,
   "metadata": {},
   "outputs": [
    {
     "data": {
      "text/plain": [
       "True"
      ]
     },
     "execution_count": 2,
     "metadata": {},
     "output_type": "execute_result"
    }
   ],
   "source": [
    "from typing import List\n",
    "\n",
    "class Solution:\n",
    "    def isValidSudoku(self, board):\n",
    "        for row in board:\n",
    "            row = [val for val in row if val!='.']\n",
    "            if len(row)!=len(list(set(row))):\n",
    "                return False\n",
    "        \n",
    "    #checking column-wise\n",
    "        for i in range(9):\n",
    "            col = [row[i] for row in board]\n",
    "            col = [val for val in col if val!='.']\n",
    "            if len(col)!=len(list(set(col))):\n",
    "                return False\n",
    "        \n",
    "    #checking block-wise       \n",
    "        for i in range(0,9,3):\n",
    "            block = board[i:i+3]\n",
    "            k = 0\n",
    "            for j in range(0,9,3):\n",
    "                final_block = block[k][j:j+3]+block[k+1][j:j+3]+block[k+2][j:j+3]\n",
    "                #print(final_block)\n",
    "                final_block = [val for val in final_block if val!='.']\n",
    "                if len(final_block)!=len(list(set(final_block))):\n",
    "                    return False\n",
    "        return True\n",
    "                \n",
    "                \n",
    "                \n",
    "Solution.isValidSudoku(Solution, \n",
    "[[\"5\",\"3\",\".\",\".\",\"7\",\".\",\".\",\".\",\".\"]\n",
    ",[\"6\",\".\",\".\",\"1\",\"9\",\"5\",\".\",\".\",\".\"]\n",
    ",[\".\",\"9\",\"8\",\".\",\".\",\".\",\".\",\"6\",\".\"]\n",
    ",[\"8\",\".\",\".\",\".\",\"6\",\".\",\".\",\".\",\"3\"]\n",
    ",[\"4\",\".\",\".\",\"8\",\".\",\"3\",\".\",\".\",\"1\"]\n",
    ",[\"7\",\".\",\".\",\".\",\"2\",\".\",\".\",\".\",\"6\"]\n",
    ",[\".\",\"6\",\".\",\".\",\".\",\".\",\"2\",\"8\",\".\"]\n",
    ",[\".\",\".\",\".\",\"4\",\"1\",\"9\",\".\",\".\",\"5\"]\n",
    ",[\".\",\".\",\".\",\".\",\"8\",\".\",\".\",\"7\",\"9\"]])        "
   ]
  }
 ],
 "metadata": {
  "interpreter": {
   "hash": "c7af7df4901773a0e355da496bf365ae011b1b331a57bbc9908dae1ee21823d7"
  },
  "kernelspec": {
   "display_name": "Python 3.10.4 64-bit",
   "language": "python",
   "name": "python3"
  },
  "language_info": {
   "codemirror_mode": {
    "name": "ipython",
    "version": 3
   },
   "file_extension": ".py",
   "mimetype": "text/x-python",
   "name": "python",
   "nbconvert_exporter": "python",
   "pygments_lexer": "ipython3",
   "version": "3.10.4"
  },
  "orig_nbformat": 4
 },
 "nbformat": 4,
 "nbformat_minor": 2
}
