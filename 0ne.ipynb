{
 "cells": [
  {
   "cell_type": "code",
   "execution_count": 41,
   "metadata": {},
   "outputs": [
    {
     "name": "stdout",
     "output_type": "stream",
     "text": [
      "[(2, 2), (-1, 2), (3, 1), (1, 1), (4, 1)]\n",
      "2 2\n",
      "-1 2\n",
      "3 1\n",
      "1 1\n",
      "4 1\n"
     ]
    },
    {
     "data": {
      "text/plain": [
       "[2, -1]"
      ]
     },
     "execution_count": 41,
     "metadata": {},
     "output_type": "execute_result"
    }
   ],
   "source": [
    "from typing import List\n",
    "\n",
    "class Solution:\n",
    "    def topKFrequent(self, nums: List[int], k: int) -> List[int]:\n",
    "        hashmap = {}\n",
    "        for n in nums:\n",
    "            if hashmap.get(n, None):\n",
    "                hashmap[n] += 1\n",
    "            else:\n",
    "                hashmap[n] = 1\n",
    "        output = []\n",
    "        for idx, (key, val) in enumerate(list(reversed(({k: v for k, v in sorted(hashmap.items(), key=lambda item: item[1])}.items())))):    \n",
    "            print(key, val)\n",
    "            if idx < k:\n",
    "                output.append(key)\n",
    "        return output\n",
    "\n",
    "Solution.topKFrequent(Solution, [4,1,-1,2,-1,2,3], 2)"
   ]
  },
  {
   "cell_type": "code",
   "execution_count": 20,
   "metadata": {},
   "outputs": [
    {
     "data": {
      "text/plain": [
       "[(1, 3), (2, 2)]"
      ]
     },
     "execution_count": 20,
     "metadata": {},
     "output_type": "execute_result"
    }
   ],
   "source": [
    "sorted([(2,2), (1,3)])"
   ]
  }
 ],
 "metadata": {
  "interpreter": {
   "hash": "c7af7df4901773a0e355da496bf365ae011b1b331a57bbc9908dae1ee21823d7"
  },
  "kernelspec": {
   "display_name": "Python 3.10.4 64-bit",
   "language": "python",
   "name": "python3"
  },
  "language_info": {
   "codemirror_mode": {
    "name": "ipython",
    "version": 3
   },
   "file_extension": ".py",
   "mimetype": "text/x-python",
   "name": "python",
   "nbconvert_exporter": "python",
   "pygments_lexer": "ipython3",
   "version": "3.10.4"
  },
  "orig_nbformat": 4
 },
 "nbformat": 4,
 "nbformat_minor": 2
}
